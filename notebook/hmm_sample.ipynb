{
 "cells": [
  {
   "cell_type": "code",
   "execution_count": 9,
   "metadata": {},
   "outputs": [
    {
     "name": "stdout",
     "output_type": "stream",
     "text": [
      "[SAVE] sample01"
     ]
    }
   ],
   "source": [
    "#! prism-code sample01\n",
    "\n",
    "values(init,[s0,s1]).       % state initialization\n",
    "values(out(_),[a,b]).       % symbol emission\n",
    "values(tr(_),[s0,s1]).      % state transition\n",
    "\n",
    "%%------------------------------------\n",
    "%%  Modeling part:\n",
    "\n",
    "hmm(L):-                        % To observe a string L:\n",
    "   str_length(N),               %   Get the string length as N\n",
    "   msw(init,S),                 %   Choose an initial state randomly\n",
    "   hmm(1,N,S,L).                %   Start stochastic transition (loop)\n",
    "\n",
    "hmm(T,N,_,[]):- T>N,!.          % Stop the loop\n",
    "hmm(T,N,S,[Ob|Y]) :-            % Loop: current state is S, current time is T\n",
    "   msw(out(S),Ob),              %   Output Ob at the state S\n",
    "   msw(tr(S),Next),             %   Transit from S to Next.\n",
    "   T1 is T+1,                   %   Count up time\n",
    "   hmm(T1,N,Next,Y).            %   Go next (recursion)\n",
    "\n",
    "str_length(10).                 % String length is 10\n",
    "\n"
   ]
  },
  {
   "cell_type": "code",
   "execution_count": 10,
   "metadata": {},
   "outputs": [
    {
     "name": "stdout",
     "output_type": "stream",
     "text": [
      " prism('sample01'),get_samples(10,hmm(_),Gs)\r\n",
      ">>=====\r\n",
      ">> Data list\r\n",
      "[data([],[],[],[],[]),data([],[],[],[],[]),data([],[],[],[],[]),data([],[],[],[],[]),data([],[],[],[],[]),data([],[],[],[],[]),data([],[],[],[],[]),data([],[],[],[],[]),data([],[],[],[],[])]\r\n",
      ">> declared index atoms\r\n",
      "[]\r\n",
      ">> occured index Atoms\r\n",
      "[]\r\n",
      ">> T-PRISM before\r\n",
      "pred(hmm,1,_41d8,_41e0,_41e8,[(hmm(_2898):-str_length(_2948),msw(init,_2a18),hmm(1,_2948,_2a18,_2898))])\r\n",
      "pred(values,2,_4130,_4138,_4140,[values(init,[s0,s1]),values(out(_2308),[a,b]),values(tr(_25e8),[s0,s1])])\r\n",
      "pred(hmm,4,_4260,_4268,_4270,[(hmm(_2eb8,_2f18,_2f78,[]):-_2eb8>_2f18,!),(hmm(_33a0,_3400,_3460,[_34d0|_3530]):-msw(out(_3460),_34d0),msw(tr(_3460),_3758),_37c8 is _33a0+1,hmm(_37c8,_3400,_3758,_3530))])\r\n",
      "pred(str_length,1,_42f8,_4300,_4308,[str_length(10)])\r\n",
      "pred($damon_load,0,_43a8,_43b0,_43b8,[($damon_load:-true,true),($damon_load:-true)])\r\n",
      "\r\n",
      ">> T-PRISM after\r\n",
      "pred(hmm,1,_41d8,_41e0,_41e8,[(hmm(_2898):-str_length(_2948),msw(init,_2a18),hmm(1,_2948,_2a18,_2898))])\r\n",
      "pred(values,2,_4130,_4138,_4140,[values(init,[s0,s1]),values(out(_2308),[a,b]),values(tr(_25e8),[s0,s1])])\r\n",
      "pred(hmm,4,_4260,_4268,_4270,[(hmm(_2eb8,_2f18,_2f78,[]):-_2eb8>_2f18,!),(hmm(_33a0,_3400,_3460,[_34d0|_3530]):-msw(out(_3460),_34d0),msw(tr(_3460),_3758),_37c8 is _33a0+1,hmm(_37c8,_3400,_3758,_3530))])\r\n",
      "pred(str_length,1,_42f8,_4300,_4308,[str_length(10)])\r\n",
      "pred($damon_load,0,_43a8,_43b0,_43b8,[($damon_load:-true,true),($damon_load:-true)])\r\n",
      "pred(values,3,_8a38,_8a40,_8a48,[values($operator(_8990),[$operator],fix@[1.0])])\r\n",
      "pred(subgoal,2,_93e8,_93f0,_93f8,[])\r\n",
      "pred(prob_tensor,2,_9e50,_9e58,_9e60,[])\r\n",
      "=====\r\n",
      "loading::sample01.psm.out\r\n",
      "Gs = [hmm([a,a,a,a,a,b,b,a,b,b]),hmm([a,b,b,a,a,b,b,a,b,b]),hmm([a,a,b,a,a,a,b,b,a,a]),hmm([b,b,b,b,b,a,b,a,a,a]),hmm([b,b,b,b,b,b,a,a,a,b]),hmm([b,a,a,b,b,a,a,a,a,a]),hmm([a,b,b,b,b,b,a,b,b,a]),hmm([b,b,a,b,a,b,b,b,a,b]),hmm([b,a,b,b,b,a,b,b,b,b]),hmm([a,b,a,a,b,b,b,a,a,a])]\r\n",
      "yes\r\n"
     ]
    }
   ],
   "source": [
    "prism('sample01'),get_samples(10,hmm(_),Gs)"
   ]
  },
  {
   "cell_type": "code",
   "execution_count": 3,
   "metadata": {},
   "outputs": [
    {
     "name": "stdout",
     "output_type": "stream",
     "text": [
      " get_version(V)\r\n",
      "V = '2.3'\r\n",
      "yes\r\n"
     ]
    }
   ],
   "source": [
    "get_version(V)"
   ]
  }
 ],
 "metadata": {
  "kernelspec": {
   "display_name": "PRISM",
   "language": "prism",
   "name": "prism"
  },
  "language_info": {
   "codemirror_mode": "scheme",
   "file_extension": ".psm",
   "mimetype": "text/plain",
   "name": "prism"
  }
 },
 "nbformat": 4,
 "nbformat_minor": 4
}
