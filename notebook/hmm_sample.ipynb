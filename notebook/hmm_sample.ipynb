{
 "cells": [
  {
   "cell_type": "code",
   "execution_count": 1,
   "metadata": {},
   "outputs": [
    {
     "name": "stdout",
     "output_type": "stream",
     "text": [
      "[SAVE] sample01"
     ]
    }
   ],
   "source": [
    "#! prism-code sample01\n",
    "\n",
    "values(init,[s0,s1]).       % state initialization\n",
    "values(out(_),[a,b]).       % symbol emission\n",
    "values(tr(_),[s0,s1]).      % state transition\n",
    "\n",
    "%%------------------------------------\n",
    "%%  Modeling part:\n",
    "\n",
    "hmm(L):-                        % To observe a string L:\n",
    "   str_length(N),               %   Get the string length as N\n",
    "   msw(init,S),                 %   Choose an initial state randomly\n",
    "   hmm(1,N,S,L).                %   Start stochastic transition (loop)\n",
    "\n",
    "hmm(T,N,_,[]):- T>N,!.          % Stop the loop\n",
    "hmm(T,N,S,[Ob|Y]) :-            % Loop: current state is S, current time is T\n",
    "   msw(out(S),Ob),              %   Output Ob at the state S\n",
    "   msw(tr(S),Next),             %   Transit from S to Next.\n",
    "   T1 is T+1,                   %   Count up time\n",
    "   hmm(T1,N,Next,Y).            %   Go next (recursion)\n",
    "\n",
    "str_length(10).                 % String length is 10\n",
    "\n"
   ]
  },
  {
   "cell_type": "code",
   "execution_count": 2,
   "metadata": {},
   "outputs": [
    {
     "name": "stdout",
     "output_type": "stream",
     "text": [
      " prism('sample01'),get_samples(10,hmm(_),Gs)\r\n",
      "loading::sample01.psm.out\r\n",
      "Gs = [hmm([a,a,a,b,a,a,a,b,b,b]),hmm([a,a,b,b,b,b,b,a,a,a]),hmm([a,b,b,a,b,a,a,a,b,b]),hmm([a,a,b,a,b,b,a,b,a,b]),hmm([b,a,a,a,b,a,b,a,b,a]),hmm([a,b,a,b,a,b,a,b,a,b]),hmm([b,a,b,b,a,b,a,b,a,a]),hmm([b,a,b,a,a,b,a,a,a,b]),hmm([a,a,b,b,a,a,b,a,a,a]),hmm([b,b,b,b,a,a,a,a,a,a])]\r\n",
      "yes\r\n"
     ]
    }
   ],
   "source": [
    "prism('sample01'),get_samples(10,hmm(_),Gs)"
   ]
  },
  {
   "cell_type": "code",
   "execution_count": 3,
   "metadata": {},
   "outputs": [
    {
     "name": "stdout",
     "output_type": "stream",
     "text": [
      " get_version(V)\r\n",
      "V = '2.3'\r\n",
      "yes\r\n"
     ]
    }
   ],
   "source": [
    "get_version(V)"
   ]
  },
  {
   "cell_type": "code",
   "execution_count": null,
   "metadata": {},
   "outputs": [],
   "source": []
  }
 ],
 "metadata": {
  "kernelspec": {
   "display_name": "PRISM",
   "language": "prism",
   "name": "prism"
  },
  "language_info": {
   "codemirror_mode": "scheme",
   "file_extension": ".psm",
   "mimetype": "text/plain",
   "name": "prism"
  }
 },
 "nbformat": 4,
 "nbformat_minor": 4
}
